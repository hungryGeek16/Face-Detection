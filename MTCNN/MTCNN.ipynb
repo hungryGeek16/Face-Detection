{
 "cells": [
  {
   "cell_type": "code",
   "execution_count": 1,
   "metadata": {},
   "outputs": [],
   "source": [
    "import cv2\n",
    "from mtcnn.mtcnn import MTCNN"
   ]
  },
  {
   "cell_type": "code",
   "execution_count": 2,
   "metadata": {},
   "outputs": [
    {
     "name": "stderr",
     "output_type": "stream",
     "text": [
      "WARNING: Logging before flag parsing goes to stderr.\n",
      "W1223 04:23:08.449518 10820 deprecation_wrapper.py:119] From c:\\program files\\python37\\lib\\site-packages\\mtcnn\\mtcnn.py:187: The name tf.ConfigProto is deprecated. Please use tf.compat.v1.ConfigProto instead.\n",
      "\n",
      "W1223 04:23:09.059477 10820 deprecation_wrapper.py:119] From c:\\program files\\python37\\lib\\site-packages\\mtcnn\\mtcnn.py:193: The name tf.Session is deprecated. Please use tf.compat.v1.Session instead.\n",
      "\n",
      "W1223 04:23:09.244011 10820 deprecation_wrapper.py:119] From c:\\program files\\python37\\lib\\site-packages\\mtcnn\\network.py:43: The name tf.variable_scope is deprecated. Please use tf.compat.v1.variable_scope instead.\n",
      "\n",
      "W1223 04:23:09.245009 10820 deprecation_wrapper.py:119] From c:\\program files\\python37\\lib\\site-packages\\mtcnn\\layer_factory.py:88: The name tf.placeholder is deprecated. Please use tf.compat.v1.placeholder instead.\n",
      "\n",
      "W1223 04:23:09.329034 10820 deprecation_wrapper.py:119] From c:\\program files\\python37\\lib\\site-packages\\mtcnn\\layer_factory.py:79: The name tf.get_variable is deprecated. Please use tf.compat.v1.get_variable instead.\n",
      "\n",
      "W1223 04:23:09.329615 10820 deprecation.py:506] From c:\\program files\\python37\\lib\\site-packages\\tensorflow\\python\\ops\\init_ops.py:1251: calling VarianceScaling.__init__ (from tensorflow.python.ops.init_ops) with dtype is deprecated and will be removed in a future version.\n",
      "Instructions for updating:\n",
      "Call initializer instance with the dtype argument instead of passing it to the constructor\n",
      "W1223 04:23:09.557863 10820 deprecation_wrapper.py:119] From c:\\program files\\python37\\lib\\site-packages\\mtcnn\\layer_factory.py:171: The name tf.nn.max_pool is deprecated. Please use tf.nn.max_pool2d instead.\n",
      "\n",
      "W1223 04:23:09.628674 10820 deprecation.py:323] From c:\\program files\\python37\\lib\\site-packages\\mtcnn\\layer_factory.py:221: div (from tensorflow.python.ops.math_ops) is deprecated and will be removed in a future version.\n",
      "Instructions for updating:\n",
      "Deprecated in favor of operator or tf.math.divide.\n",
      "W1223 04:23:10.364015 10820 deprecation_wrapper.py:119] From c:\\program files\\python37\\lib\\site-packages\\mtcnn\\layer_factory.py:196: The name tf.nn.xw_plus_b is deprecated. Please use tf.compat.v1.nn.xw_plus_b instead.\n",
      "\n"
     ]
    }
   ],
   "source": [
    "detector = MTCNN()\n",
    "image = cv2.imread(\"teja.jpg\")\n",
    "result = detector.detect_faces(image)"
   ]
  },
  {
   "cell_type": "code",
   "execution_count": 3,
   "metadata": {},
   "outputs": [
    {
     "data": {
      "text/plain": [
       "[{'box': [151, 62, 105, 125],\n",
       "  'confidence': 0.9997690320014954,\n",
       "  'keypoints': {'left_eye': (165, 115),\n",
       "   'right_eye': (206, 102),\n",
       "   'nose': (175, 127),\n",
       "   'mouth_left': (171, 158),\n",
       "   'mouth_right': (210, 148)}}]"
      ]
     },
     "execution_count": 3,
     "metadata": {},
     "output_type": "execute_result"
    }
   ],
   "source": [
    "result"
   ]
  },
  {
   "cell_type": "code",
   "execution_count": 4,
   "metadata": {},
   "outputs": [],
   "source": [
    "l = []\n",
    "l1 = []\n",
    "for i in range(len(result)):\n",
    "    l.append(result[i]['box'])\n",
    "    l1.append(result[i]['keypoints'])"
   ]
  },
  {
   "cell_type": "code",
   "execution_count": 5,
   "metadata": {},
   "outputs": [
    {
     "data": {
      "text/plain": [
       "([[151, 62, 105, 125]],\n",
       " [{'left_eye': (165, 115),\n",
       "   'right_eye': (206, 102),\n",
       "   'nose': (175, 127),\n",
       "   'mouth_left': (171, 158),\n",
       "   'mouth_right': (210, 148)}])"
      ]
     },
     "execution_count": 5,
     "metadata": {},
     "output_type": "execute_result"
    }
   ],
   "source": [
    "l,l1"
   ]
  },
  {
   "cell_type": "code",
   "execution_count": 6,
   "metadata": {},
   "outputs": [],
   "source": [
    "for i in range(len(result)):\n",
    "    cv2.rectangle(image,\n",
    "              (l[i][0], l[i][1]),\n",
    "              (l[i][0]+l[i][2], l[i][1] + l[i][3]),\n",
    "              (0,155,255),2)\n",
    "    cv2.circle(image,(l1[i]['left_eye']), 2, (0,155,255), 2)\n",
    "    cv2.circle(image,(l1[i]['right_eye']), 2, (0,155,255), 2)\n",
    "    cv2.circle(image,(l1[i]['nose']), 2, (0,155,255), 2)\n",
    "    cv2.circle(image,(l1[i]['mouth_left']), 2, (0,155,255), 2)\n",
    "    cv2.circle(image,(l1[i]['mouth_right']), 2, (0,155,255), 2)"
   ]
  },
  {
   "cell_type": "code",
   "execution_count": 7,
   "metadata": {},
   "outputs": [
    {
     "data": {
      "text/plain": [
       "-1"
      ]
     },
     "execution_count": 7,
     "metadata": {},
     "output_type": "execute_result"
    }
   ],
   "source": [
    "cv2.imwrite(\"low.jpg\", image)\n",
    "cv2.namedWindow(\"image\")\n",
    "cv2.imshow(\"image\",image)\n",
    "cv2.waitKey(0)"
   ]
  },
  {
   "cell_type": "code",
   "execution_count": 15,
   "metadata": {},
   "outputs": [],
   "source": [
    "cap = cv2.VideoCapture(0)\n",
    "while True: \n",
    "    #Capture frame-by-frame\n",
    "    __, frame = cap.read()\n",
    "    \n",
    "    #Use MTCNN to detect faces\n",
    "    result = detector.detect_faces(frame)\n",
    "    if result != []:\n",
    "        for person in result:\n",
    "            bounding_box = person['box']\n",
    "            keypoints = person['keypoints']\n",
    "    \n",
    "            cv2.rectangle(frame,\n",
    "                          (bounding_box[0], bounding_box[1]),\n",
    "                          (bounding_box[0]+bounding_box[2], bounding_box[1] + bounding_box[3]),\n",
    "                          (0,155,255),\n",
    "                          2)\n",
    "    \n",
    "            cv2.circle(frame,(keypoints['left_eye']), 2, (0,155,255), 2)\n",
    "            cv2.circle(frame,(keypoints['right_eye']), 2, (0,155,255), 2)\n",
    "            cv2.circle(frame,(keypoints['nose']), 2, (0,155,255), 2)\n",
    "            cv2.circle(frame,(keypoints['mouth_left']), 2, (0,155,255), 2)\n",
    "            cv2.circle(frame,(keypoints['mouth_right']), 2, (0,155,255), 2)\n",
    "    #display resulting frame\n",
    "    cv2.imshow('frame',frame)\n",
    "    if cv2.waitKey(1) &0xFF == ord('q'):\n",
    "        break#When everything's done, release capture\n",
    "cap.release()\n",
    "cv2.destroyAllWindows()"
   ]
  },
  {
   "cell_type": "code",
   "execution_count": null,
   "metadata": {},
   "outputs": [],
   "source": []
  }
 ],
 "metadata": {
  "kernelspec": {
   "display_name": "Python 3",
   "language": "python",
   "name": "python3"
  },
  "language_info": {
   "codemirror_mode": {
    "name": "ipython",
    "version": 3
   },
   "file_extension": ".py",
   "mimetype": "text/x-python",
   "name": "python",
   "nbconvert_exporter": "python",
   "pygments_lexer": "ipython3",
   "version": "3.7.4"
  }
 },
 "nbformat": 4,
 "nbformat_minor": 2
}
